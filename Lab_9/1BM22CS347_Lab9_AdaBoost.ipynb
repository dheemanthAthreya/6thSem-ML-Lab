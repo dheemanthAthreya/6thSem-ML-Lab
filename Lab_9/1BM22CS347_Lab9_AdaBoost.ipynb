{
  "nbformat": 4,
  "nbformat_minor": 0,
  "metadata": {
    "colab": {
      "provenance": [],
      "authorship_tag": "ABX9TyOFRI5aypHYTqGmx0beunCn",
      "include_colab_link": true
    },
    "kernelspec": {
      "name": "python3",
      "display_name": "Python 3"
    },
    "language_info": {
      "name": "python"
    }
  },
  "cells": [
    {
      "cell_type": "markdown",
      "metadata": {
        "id": "view-in-github",
        "colab_type": "text"
      },
      "source": [
        "<a href=\"https://colab.research.google.com/github/dheemanthAthreya/6thSem-ML-Lab/blob/main/Lab_9/1BM22CS347_Lab9_AdaBoost.ipynb\" target=\"_parent\"><img src=\"https://colab.research.google.com/assets/colab-badge.svg\" alt=\"Open In Colab\"/></a>"
      ]
    },
    {
      "cell_type": "markdown",
      "source": [
        "# income.csv"
      ],
      "metadata": {
        "id": "7d5DeMwCz7xS"
      }
    },
    {
      "cell_type": "code",
      "execution_count": 5,
      "metadata": {
        "colab": {
          "base_uri": "https://localhost:8080/"
        },
        "id": "IDwuDgyjvsMp",
        "outputId": "cfd267cc-cbc9-4185-b446-4524f0218ad5"
      },
      "outputs": [
        {
          "output_type": "stream",
          "name": "stdout",
          "text": [
            "Accuracy: 83.27%\n",
            "Confusion Matrix:\n",
            "[[7003  411]\n",
            " [1223 1132]]\n"
          ]
        }
      ],
      "source": [
        "import pandas as pd\n",
        "from sklearn.model_selection import train_test_split\n",
        "from sklearn.ensemble import AdaBoostClassifier\n",
        "from sklearn.tree import DecisionTreeClassifier\n",
        "from sklearn.metrics import accuracy_score, confusion_matrix\n",
        "\n",
        "# Load the dataset\n",
        "data = pd.read_csv('income.csv')\n",
        "\n",
        "# Define features and target variable\n",
        "X = data.drop(columns=['income_level'])\n",
        "y = data['income_level']\n",
        "\n",
        "# Split the dataset into 80% training and 20% testing\n",
        "X_train, X_test, y_train, y_test = train_test_split(X, y, test_size=0.2, random_state=42)\n",
        "\n",
        "# Build AdaBoost model (default base estimator is a DecisionTreeClassifier with max_depth=1)\n",
        "ada_model = AdaBoostClassifier(n_estimators=50, learning_rate=1.0, random_state=42)\n",
        "\n",
        "# Train the model\n",
        "ada_model.fit(X_train, y_train)\n",
        "\n",
        "# Predict on test set\n",
        "y_pred = ada_model.predict(X_test)\n",
        "\n",
        "# Evaluate the model\n",
        "accuracy = accuracy_score(y_test, y_pred)\n",
        "conf_matrix = confusion_matrix(y_test, y_pred)\n",
        "\n",
        "# Print results\n",
        "print(f\"Accuracy: {accuracy * 100:.2f}%\")\n",
        "print(\"Confusion Matrix:\")\n",
        "print(conf_matrix)"
      ]
    },
    {
      "cell_type": "markdown",
      "source": [
        "# iris dataset"
      ],
      "metadata": {
        "id": "uXDX77aQ03RS"
      }
    },
    {
      "cell_type": "code",
      "source": [
        "import numpy as np\n",
        "from sklearn.datasets import load_iris\n",
        "from sklearn.ensemble import AdaBoostClassifier\n",
        "from sklearn.tree import DecisionTreeClassifier\n",
        "from sklearn.linear_model import LogisticRegression\n",
        "from sklearn.model_selection import train_test_split\n",
        "from sklearn.metrics import accuracy_score\n",
        "import warnings\n",
        "warnings.filterwarnings('ignore')  # Optional: Ignore convergence warnings\n",
        "\n",
        "# Load dataset\n",
        "iris = load_iris()\n",
        "X = iris.data\n",
        "y = iris.target\n",
        "\n",
        "# Split into train/test\n",
        "X_train, X_test, y_train, y_test = train_test_split(X, y, test_size=0.2, random_state=42)\n",
        "\n",
        "# Parameters to tune\n",
        "n_estimators_list = [10, 50, 100]\n",
        "learning_rates = [0.01, 0.1, 1]\n",
        "\n",
        "# Base estimators\n",
        "base_classifiers = {\n",
        "    \"Decision Tree\": DecisionTreeClassifier(max_depth=1),\n",
        "    \"Logistic Regression\": LogisticRegression(max_iter=200)\n",
        "}\n",
        "\n",
        "# Train and evaluate\n",
        "for name, base in base_classifiers.items():\n",
        "    print(f\"\\n===== Base Estimator: {name} =====\")\n",
        "    for n in n_estimators_list:\n",
        "        for lr in learning_rates:\n",
        "            model = AdaBoostClassifier(estimator=base, n_estimators=n, learning_rate=lr, random_state=42)\n",
        "            model.fit(X_train, y_train)\n",
        "            y_pred = model.predict(X_test)\n",
        "            acc = accuracy_score(y_test, y_pred)\n",
        "            print(f\"n_estimators={n}, learning_rate={lr:.2f} → Accuracy: {acc:.4f}\")\n"
      ],
      "metadata": {
        "colab": {
          "base_uri": "https://localhost:8080/"
        },
        "id": "f6z7LQLcyS0c",
        "outputId": "1370db3d-d7aa-4285-b7f8-3ae4405919f4"
      },
      "execution_count": 7,
      "outputs": [
        {
          "output_type": "stream",
          "name": "stdout",
          "text": [
            "\n",
            "===== Base Estimator: Decision Tree =====\n",
            "n_estimators=10, learning_rate=0.01 → Accuracy: 0.6333\n",
            "n_estimators=10, learning_rate=0.10 → Accuracy: 0.9667\n",
            "n_estimators=10, learning_rate=1.00 → Accuracy: 1.0000\n",
            "n_estimators=50, learning_rate=0.01 → Accuracy: 0.6333\n",
            "n_estimators=50, learning_rate=0.10 → Accuracy: 1.0000\n",
            "n_estimators=50, learning_rate=1.00 → Accuracy: 0.9333\n",
            "n_estimators=100, learning_rate=0.01 → Accuracy: 0.9667\n",
            "n_estimators=100, learning_rate=0.10 → Accuracy: 1.0000\n",
            "n_estimators=100, learning_rate=1.00 → Accuracy: 0.9333\n",
            "\n",
            "===== Base Estimator: Logistic Regression =====\n",
            "n_estimators=10, learning_rate=0.01 → Accuracy: 0.9333\n",
            "n_estimators=10, learning_rate=0.10 → Accuracy: 1.0000\n",
            "n_estimators=10, learning_rate=1.00 → Accuracy: 0.9333\n",
            "n_estimators=50, learning_rate=0.01 → Accuracy: 1.0000\n",
            "n_estimators=50, learning_rate=0.10 → Accuracy: 1.0000\n",
            "n_estimators=50, learning_rate=1.00 → Accuracy: 0.9333\n",
            "n_estimators=100, learning_rate=0.01 → Accuracy: 1.0000\n",
            "n_estimators=100, learning_rate=0.10 → Accuracy: 1.0000\n",
            "n_estimators=100, learning_rate=1.00 → Accuracy: 0.9333\n"
          ]
        }
      ]
    },
    {
      "cell_type": "code",
      "source": [],
      "metadata": {
        "id": "dxyuAl2k05Hz"
      },
      "execution_count": null,
      "outputs": []
    }
  ]
}